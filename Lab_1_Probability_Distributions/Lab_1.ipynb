{
 "cells": [
  {
   "cell_type": "markdown",
   "metadata": {
    "pycharm": {
     "name": "#%% md\n"
    }
   },
   "source": [
    "# <center> Artificial Intelligence in Robotics - Laboratory 1 </center>\n",
    "### <center> By Lennard Rose 5122737 </center>"
   ]
  },
  {
   "cell_type": "code",
   "execution_count": null,
   "outputs": [],
   "source": [
    "import Lab_1_script\n",
    "import numpy as np"
   ],
   "metadata": {
    "collapsed": false,
    "pycharm": {
     "name": "#%%\n"
    }
   }
  },
  {
   "cell_type": "markdown",
   "source": [
    "## <center> T1 - Define a Probability Density Function </center>\n",
    "##### In Python, functions are usually defined inside a file. Create a file called lab_1_script.py and implement the probability density function p(x). Use the parameters σ = 1.0 and µ = 0.0. Hint: The Python module numpy provides relevant functions and a variable for π: numpy.pi.\n",
    "$$\n",
    "\\begin{align}\n",
    "p(x) = \\frac{1}{\\sigma\\sqrt{2\\pi}}e^{-\\frac{1}{2}\\frac{(x-\\mu)}{\\sigma}^2}\n",
    "\\end{align}\n",
    "$$"
   ],
   "metadata": {
    "collapsed": false,
    "pycharm": {
     "name": "#%% md\n"
    }
   }
  },
  {
   "cell_type": "code",
   "execution_count": null,
   "outputs": [],
   "source": [
    "def pdf(x, mean=0.0, std=1.0):\n",
    "    return 1 / (std * np.sqrt(2 * np.pi)) * np.exp(-0.5 * ((x - mean) / std) ** 2)"
   ],
   "metadata": {
    "collapsed": false,
    "pycharm": {
     "name": "#%%\n"
    }
   }
  },
  {
   "cell_type": "markdown",
   "source": [
    "### <center> 1.a [0.5 marks] </center>\n",
    "##### What are the values of the mean and standard deviation of the density function p(x)?\n",
    "\n",
    "The mean has the value 0.0, the standard deviation has the value 1.0 for the density function p(x) in the given example of T1."
   ],
   "metadata": {
    "collapsed": false,
    "pycharm": {
     "name": "#%% md\n"
    }
   }
  },
  {
   "cell_type": "markdown",
   "source": [
    "### <center> 1.b [1.0 marks] </center>\n",
    "##### In general, what is the effect of the prefactor $\\frac{1}{\\sigma\\sqrt{2\\pi}}$ on the density function p(x)?\n",
    "\n",
    "The prefactor scales the distribution. Without it, the area under the curve is not necessarily 1."
   ],
   "metadata": {
    "collapsed": false,
    "pycharm": {
     "name": "#%% md\n"
    }
   }
  },
  {
   "cell_type": "markdown",
   "source": [
    "### <center> 1.c [1.5 marks] </center>\n",
    "##### Next, launch your script as python lab_1_script.py in the command line. What common probability distribution does the implemented density function describe? In Python, several functions can be defined in one and the same file. The file name and the function names used do not depend on each other.\n",
    "\n",
    "The implemented desity function describes the gaussian distribution or normal distribution. With the mean of 0.0 and the standard deviation of 1.0 it is called the standard normal distribution.\n"
   ],
   "metadata": {
    "collapsed": false,
    "pycharm": {
     "name": "#%% md\n"
    }
   }
  },
  {
   "cell_type": "code",
   "execution_count": null,
   "outputs": [],
   "source": [
    "import subprocess\n",
    "# command line call for the pdf, value for x is 100 uniform dist. values between -5 and 5\n",
    "result = subprocess.run(['python', './Lab_1_script.py', '-m 0',  '-s 1'], shell=True, capture_output=True)\n",
    "#format output\n",
    "print(result.stdout.decode(\"UTF-8\"))"
   ],
   "metadata": {
    "collapsed": false,
    "pycharm": {
     "name": "#%%\n"
    }
   }
  },
  {
   "cell_type": "markdown",
   "source": [
    "## <center> T2 - Plot Data </center>\n",
    "##### Each Python file is a script that can be evaluated later. It can contain several functions and other numerical calculations in one file. The matplotlib.pyplot module can be used for plotting."
   ],
   "metadata": {
    "collapsed": false,
    "pycharm": {
     "name": "#%% md\n"
    }
   }
  },
  {
   "cell_type": "markdown",
   "source": [
    "### <center> 2.a [1.5 marks] </center>\n",
    "##### In lab_1_script.py, use the numpy.linspace command to draw 100 evenly spaced samples from the density function p(x) in the interval [−6, 6]. Plot p(x) vs x for the drawn samples. Save the resulting plot as a PNG-file for your lab report."
   ],
   "metadata": {
    "collapsed": false,
    "pycharm": {
     "name": "#%% md\n"
    }
   }
  },
  {
   "cell_type": "code",
   "execution_count": null,
   "outputs": [],
   "source": [
    "x = np.linspace(-6, 6, 100)\n",
    "Lab_1_script.plot_pdf(x=x,\n",
    "                      mean=0,\n",
    "                      std=1.0,\n",
    "                      filename=\"2a\")"
   ],
   "metadata": {
    "collapsed": false,
    "pycharm": {
     "name": "#%%\n"
    }
   }
  },
  {
   "cell_type": "markdown",
   "metadata": {
    "pycharm": {
     "name": "#%% md\n"
    }
   },
   "source": [
    "### <center> 2.b [0.5 marks] </center>\n",
    "##### Change the parameters to σ = 2.0 and µ = 0.0. Plot the changed density function as above and save it as another PNG-file. Based on the difference that you observe in the original and changed density functions, what is the main effect of changing σ?"
   ]
  },
  {
   "cell_type": "code",
   "execution_count": 8,
   "metadata": {
    "pycharm": {
     "name": "#%%\n"
    }
   },
   "outputs": [
    {
     "data": {
      "image/png": "[encoded data removed]",
      "text/plain": [
       "<Figure size 432x288 with 1 Axes>"
      ]
     },
     "metadata": {
      "needs_background": "light"
     },
     "output_type": "display_data"
    }
   ],
   "source": [
    "x = np.linspace(-6, 6, 100)\n",
    "Lab_1_script.plot_pdf(x=x,\n",
    "                      mean=0,\n",
    "                      std=2.0,\n",
    "                      filename=\"2b\")"
   ]
  },
  {
   "cell_type": "markdown",
   "metadata": {
    "pycharm": {
     "name": "#%% md\n"
    }
   },
   "source": [
    "Changing the std makes the density functions \"bell\" wider, meaning the values are more spread around the mean (the center)."
   ]
  },
  {
   "cell_type": "markdown",
   "metadata": {
    "pycharm": {
     "name": "#%% md\n"
    }
   },
   "source": [
    "### <center> 2.c [0.5 marks] </center>\n",
    "##### Comment on the effect of changing the parameters to σ = 1.0 and µ = 1.0 on the density function."
   ]
  },
  {
   "cell_type": "code",
   "execution_count": 9,
   "metadata": {
    "pycharm": {
     "name": "#%%\n"
    }
   },
   "outputs": [
    {
     "data": {
      "image/png": "[encoded data removed]",
      "text/plain": [
       "<Figure size 432x288 with 1 Axes>"
      ]
     },
     "metadata": {
      "needs_background": "light"
     },
     "output_type": "display_data"
    }
   ],
   "source": [
    "x = np.linspace(-6, 6, 100)\n",
    "Lab_1_script.plot_pdf(x=x,\n",
    "                      mean=1.0,\n",
    "                      std=1.0,\n",
    "                      filename=\"2c\")"
   ]
  },
  {
   "cell_type": "markdown",
   "metadata": {
    "pycharm": {
     "name": "#%% md\n"
    }
   },
   "source": [
    "changing the mean to 1.0 shifts the center of the density function to 1.0. This has no effect on the standard deviation and how far the values are distributed around the center."
   ]
  },
  {
   "cell_type": "markdown",
   "metadata": {
    "pycharm": {
     "name": "#%% md\n"
    }
   },
   "source": [
    "## <center> T 3 – Generate Random Numbers </center>\n",
    "##### Random numbers are important in probabilistic modeling, so it is better to know what kind of random variables Python provides and how to use them. Tip: Use numpy."
   ]
  },
  {
   "cell_type": "markdown",
   "metadata": {
    "pycharm": {
     "name": "#%% md\n"
    }
   },
   "source": [
    "### <center> 3.a [0.5 marks] </center>\n",
    "##### In lab_1_script.py, use the numpy.random.normal function to draw 1,000,000 random samples from a normal distribution with a mean of 10.0 and a standard deviation of 4.0."
   ]
  },
  {
   "cell_type": "code",
   "execution_count": 11,
   "metadata": {
    "pycharm": {
     "name": "#%%\n"
    }
   },
   "outputs": [],
   "source": [
    "n_sample = Lab_1_script.draw_normal()"
   ]
  },
  {
   "cell_type": "markdown",
   "metadata": {
    "pycharm": {
     "name": "#%% md\n"
    }
   },
   "source": [
    "### <center> 3.b [0.5 marks] </center>\n",
    "##### Use the numpy.random.uniform function to draw 1,000,000 random samples from a uniform distribution over the interval between 0 and 20."
   ]
  },
  {
   "cell_type": "code",
   "execution_count": 12,
   "metadata": {
    "pycharm": {
     "name": "#%%\n"
    }
   },
   "outputs": [],
   "source": [
    "u_sample = Lab_1_script.draw_uniform()"
   ]
  },
  {
   "cell_type": "markdown",
   "metadata": {
    "pycharm": {
     "name": "#%% md\n"
    }
   },
   "source": [
    "### <center> 3.c [1.0 marks] </center>\n",
    "##### Calculate and output the sample means and standard deviations of the two sets computed in a) and b) using numpy functions. Explain how the results compare to each other."
   ]
  },
  {
   "cell_type": "code",
   "execution_count": 13,
   "metadata": {
    "pycharm": {
     "name": "#%%\n"
    }
   },
   "outputs": [
    {
     "name": "stdout",
     "output_type": "stream",
     "text": [
      "Normal Sample size: (1000000,)\n",
      "Uniform Sample size: (1000000,)\n",
      "Normal Sample mean: 9.998817790514382\n",
      "Uniform Sample mean: 9.99703439499988\n",
      "Normal Sample std: 4.000373127839589\n",
      "Uniform Sample std: 5.772785681081659\n"
     ]
    }
   ],
   "source": [
    "print(f\"Normal Sample size: {n_sample.shape}\")\n",
    "print(f\"Uniform Sample size: {u_sample.shape}\")\n",
    "print(f\"Normal Sample mean: {np.mean(n_sample)}\")\n",
    "print(f\"Uniform Sample mean: {np.mean(u_sample)}\")\n",
    "print(f\"Normal Sample std: {np.std(n_sample)}\")\n",
    "print(f\"Uniform Sample std: {np.std(u_sample)}\")"
   ]
  },
  {
   "cell_type": "markdown",
   "metadata": {
    "pycharm": {
     "name": "#%% md\n"
    }
   },
   "source": [
    "Both distibutions have their center around x = 10. The normal distribution does so because the mean is 10. The uniform distribution does so because its values are evenly distributed between 0 and 20 of which the center is 10.\n",
    "The standard deviation on the other hand is around 4 for the normal distribution as we specified it (with more samples it gets nearer to be 4.0). Uniform distribution it is around ~5,77 (calculated by $sqrt{(b-a)^2 / 12}$) (b = highest value, a = lowest value)."
   ]
  },
  {
   "cell_type": "markdown",
   "metadata": {
    "pycharm": {
     "name": "#%% md\n"
    }
   },
   "source": [
    "### <center> 3.d [1.5 marks] </center>\n",
    "##### Use the hist function to plot separate histograms with 100 bins for each of the sample sets you have generated. Use the help(matplotlib.pyplot.hist) function to get more information on its use. Save the resulting plots as PNG-files for your lab report."
   ]
  },
  {
   "cell_type": "code",
   "execution_count": 16,
   "metadata": {
    "pycharm": {
     "name": "#%%\n"
    }
   },
   "outputs": [
    {
     "data": {
      "image/png": "[encoded data removed]",
      "text/plain": [
       "<Figure size 432x288 with 1 Axes>"
      ]
     },
     "metadata": {
      "needs_background": "light"
     },
     "output_type": "display_data"
    },
    {
     "data": {
      "image/png": "[encoded data removed]",
      "text/plain": [
       "<Figure size 432x288 with 1 Axes>"
      ]
     },
     "metadata": {
      "needs_background": "light"
     },
     "output_type": "display_data"
    }
   ],
   "source": [
    "Lab_1_script.plot_histograms(normal_sample=n_sample,\n",
    "                             uniform_sample=u_sample,\n",
    "                             filename=\"3d\")"
   ]
  },
  {
   "cell_type": "markdown",
   "metadata": {
    "pycharm": {
     "name": "#%% md\n"
    }
   },
   "source": [
    "### <center> 3.e [1.0 marks] </center>\n",
    "##### What is the effect of setting the seed to a fixed value with the function numpy.random.seed before sampling, i.e. when random numbers are generated?"
   ]
  },
  {
   "cell_type": "markdown",
   "metadata": {
    "pycharm": {
     "name": "#%% md\n"
    }
   },
   "source": [
    "Computers are not really possible to generate true random numbers. It is always done by some sort of algorithm. Setting a seed makes it possible to get the same results from the random functions. This is necessary for reproducibility."
   ]
  },
  {
   "cell_type": "markdown",
   "metadata": {
    "pycharm": {
     "name": "#%% md\n"
    }
   },
   "source": [
    "# Attached Code"
   ]
  },
  {
   "cell_type": "markdown",
   "metadata": {
    "pycharm": {
     "name": "#%% md\n"
    }
   },
   "source": [
    "### Lab_1_script.py"
   ]
  },
  {
   "cell_type": "code",
   "execution_count": null,
   "metadata": {
    "pycharm": {
     "name": "#%%\n"
    }
   },
   "outputs": [],
   "source": [
    "import numpy as np\n",
    "import argparse\n",
    "import matplotlib.pyplot as plt\n",
    "\n",
    "\"\"\"\n",
    "Task 1 pdf function\n",
    "\"\"\"\n",
    "def pdf(x, mean=0.0, std=1.0):\n",
    "    return 1 / (std * np.sqrt(2 * np.pi)) * np.exp(-0.5 * ((x - mean) / std) ** 2)\n",
    "\n",
    "\n",
    "\"\"\"\n",
    "1.c run from cmd\n",
    "uncomment below to enable\n",
    "\"\"\"\n",
    "def run_from_console():\n",
    "    try:\n",
    "        parser = argparse.ArgumentParser()\n",
    "        parser.add_argument('-m', '--mean', type=float)\n",
    "        parser.add_argument('-s', '--std', type=float)\n",
    "        args = parser.parse_args()\n",
    "\n",
    "        print(f\"Mean: {args.mean}, Std: {args.std} used to calculate pdf:\")\n",
    "        x = np.linspace(-6, 6, 100)  # no x was specified for the cmd call so I use the one from T2\n",
    "        print(pdf(x, args.mean, args.std))\n",
    "    except Exception as e:\n",
    "        print(e)\n",
    "\n",
    "\n",
    "run_from_console()\n",
    "\n",
    "\"\"\"\n",
    "2.a\n",
    "\"\"\"\n",
    "def plot_pdf(x, mean, std, filename):\n",
    "    plt.xlabel('x')\n",
    "    plt.ylabel('p(x)')\n",
    "    plt.title(f'PDF with Mean: {mean} and Std: {std}')\n",
    "    plt.plot(x, pdf(x, mean, std))\n",
    "    plt.savefig(f\"./output/{filename}.png\")\n",
    "    plt.show()\n",
    "\n",
    "\"\"\"\n",
    "3.a\n",
    "\"\"\"\n",
    "def draw_normal():\n",
    "    return np.random.normal(10.0, 4.0, 1000000)\n",
    "\n",
    "\"\"\"\n",
    "3.b\n",
    "\"\"\"\n",
    "def draw_uniform():\n",
    "    return np.random.uniform(0, 20, 1000000)\n",
    "\n",
    "\"\"\"\n",
    "3.d\n",
    "\"\"\"\n",
    "def plot_histograms(normal_sample, uniform_sample, filename):\n",
    "    plt.hist(normal_sample, bins=100, density=True, alpha=0.5, label='Normal Distribution')\n",
    "    plt.xlabel('x')\n",
    "    plt.ylabel('p(x)')\n",
    "    plt.axvline(x=np.mean(normal_sample), color='red', linestyle='--', label=\"Mean\")\n",
    "    plt.axvline(x=np.mean(normal_sample) - np.std(normal_sample), color='green', linestyle='--', label=\"Std\")\n",
    "    plt.axvline(x=np.mean(normal_sample) + np.std(normal_sample), color='green', linestyle='--', label=\"Std\")\n",
    "    plt.title('Histogram of the Normal Distribution (n=1000000, m=10, std=4')\n",
    "    plt.legend()\n",
    "    plt.savefig(f\"./output/{filename}_normal.png\")\n",
    "    plt.legend()\n",
    "    plt.show()\n",
    "\n",
    "    plt.hist(uniform_sample, bins=100, density=True, color='red', alpha=0.5, label='Uniform Distribution')\n",
    "    plt.xlabel('x')\n",
    "    plt.ylabel('p(x)')\n",
    "    plt.axvline(x=np.mean(uniform_sample), color='red', linestyle='--', label=\"Mean\")\n",
    "    plt.axvline(x=np.mean(uniform_sample) - np.std(uniform_sample), color='green', linestyle='--', label=\"Std\")\n",
    "    plt.axvline(x=np.mean(uniform_sample) + np.std(uniform_sample), color='green', linestyle='--', label=\"Std\")\n",
    "    plt.title('Histogram of the Uniform Distribution (n=1000000, intervall:[0, 20]')\n",
    "    plt.legend()\n",
    "    plt.savefig(f\"./output/{filename}_uniform.png\")\n",
    "    plt.show()\n"
   ]
  }
 ],
 "metadata": {
  "kernelspec": {
   "display_name": "Python 3 (ipykernel)",
   "language": "python",
   "name": "python3"
  },
  "language_info": {
   "codemirror_mode": {
    "name": "ipython",
    "version": 3
   },
   "file_extension": ".py",
   "mimetype": "text/x-python",
   "name": "python",
   "nbconvert_exporter": "python",
   "pygments_lexer": "ipython3",
   "version": "3.9.2"
  }
 },
 "nbformat": 4,
 "nbformat_minor": 1
}